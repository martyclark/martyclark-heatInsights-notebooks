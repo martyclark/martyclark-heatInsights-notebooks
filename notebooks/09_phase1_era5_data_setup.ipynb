{
 "cells": [
  {
   "cell_type": "markdown",
   "metadata": {},
   "source": [
    "# Phase 1: EHF Data Setup & ERA5-Land Preprocessing\n",
    "\n",
    "This notebook implements Phase 1 of the Excess Heat Factor (EHF) methodology:\n",
    "- ERA5-Land data access and preprocessing\n",
    "- City-based analysis setup using GHS urban database\n",
    "- Temperature data extraction and aggregation\n",
    "\n",
    "Based on Perkins & Alexander (2013) methodology for extreme heat assessment."
   ]
  },
  {
   "cell_type": "code",
   "execution_count": 1,
   "metadata": {},
   "outputs": [
    {
     "name": "stdout",
     "output_type": "stream",
     "text": [
      "✅ Google Earth Engine API available\n",
      "✅ Geemap available (version 0.36.1)\n",
      "✅ GEE utilities loaded\n",
      "Python executable: /Users/martynclark/heatInsights-notebooks/venv/bin/python\n",
      "Python version: 3.9.13\n",
      "✅ Google Earth Engine initialized successfully with tl-cities project\n",
      "\n",
      "============================================================\n",
      "ENVIRONMENT STATUS\n",
      "============================================================\n",
      "Earth Engine API: ✅ Ready\n",
      "Geemap: ✅ Available\n",
      "Project: tl-cities\n",
      "Ready for ERA5-Land data extraction!\n"
     ]
    }
   ],
   "source": [
    "import pandas as pd\n",
    "import numpy as np\n",
    "import matplotlib.pyplot as plt\n",
    "import seaborn as sns\n",
    "from datetime import datetime, timedelta\n",
    "import os\n",
    "import sys\n",
    "from tqdm import tqdm\n",
    "\n",
    "# Check for required packages and provide helpful error messages\n",
    "try:\n",
    "    import ee\n",
    "    EE_AVAILABLE = True\n",
    "    print(\"✅ Google Earth Engine API available\")\n",
    "except ImportError:\n",
    "    EE_AVAILABLE = False\n",
    "    print(\"❌ Google Earth Engine API not installed\")\n",
    "\n",
    "try:\n",
    "    import geemap\n",
    "    GEEMAP_AVAILABLE = True\n",
    "    print(f\"✅ Geemap available (version {geemap.__version__})\")\n",
    "except ImportError as e:\n",
    "    GEEMAP_AVAILABLE = False\n",
    "    print(f\"❌ Geemap import error: {e}\")\n",
    "    print(\"Try: pip install geemap or conda install -c conda-forge geemap\")\n",
    "\n",
    "# Add src to path for utilities\n",
    "sys.path.append('../src')\n",
    "try:\n",
    "    import gee_utils\n",
    "    print(\"✅ GEE utilities loaded\")\n",
    "except ImportError:\n",
    "    print(\"⚠️  GEE utilities not found, using basic functions\")\n",
    "\n",
    "print(f\"Python executable: {sys.executable}\")\n",
    "print(f\"Python version: {sys.version.split()[0]}\")\n",
    "\n",
    "# Initialize GEE with error handling\n",
    "if EE_AVAILABLE:\n",
    "    try:\n",
    "        # Initialize with your project (same as other notebooks)\n",
    "        ee.Initialize(project='tl-cities')\n",
    "        print(\"✅ Google Earth Engine initialized successfully with tl-cities project\")\n",
    "        GEE_INITIALIZED = True\n",
    "    except Exception as e:\n",
    "        print(f\"❌ Google Earth Engine initialization failed: {e}\")\n",
    "        GEE_INITIALIZED = False\n",
    "else:\n",
    "    GEE_INITIALIZED = False\n",
    "\n",
    "print(f\"\\n{'='*60}\")\n",
    "print(\"ENVIRONMENT STATUS\")\n",
    "print(f\"{'='*60}\")\n",
    "print(f\"Earth Engine API: {'✅ Ready' if GEE_INITIALIZED else '❌ Not available'}\")\n",
    "print(f\"Geemap: {'✅ Available' if GEEMAP_AVAILABLE else '❌ Not installed'}\")\n",
    "\n",
    "if GEE_INITIALIZED:\n",
    "    print(f\"Project: tl-cities\")\n",
    "    print(\"Ready for ERA5-Land data extraction!\")\n",
    "\n",
    "# Note about geemap\n",
    "if not GEEMAP_AVAILABLE:\n",
    "    print(\"\\n⚠️  Note: Geemap is optional for EHF analysis\")\n",
    "    print(\"   Core functionality will work without it\")"
   ]
  },
  {
   "cell_type": "markdown",
   "metadata": {},
   "source": [
    "## 1.1 ERA5-Land Data Access"
   ]
  },
  {
   "cell_type": "code",
   "execution_count": 2,
   "metadata": {},
   "outputs": [
    {
     "data": {
      "text/html": [
       "\n",
       "            <style>\n",
       "                .geemap-dark {\n",
       "                    --jp-widgets-color: white;\n",
       "                    --jp-widgets-label-color: white;\n",
       "                    --jp-ui-font-color1: white;\n",
       "                    --jp-layout-color2: #454545;\n",
       "                    background-color: #383838;\n",
       "                }\n",
       "\n",
       "                .geemap-dark .jupyter-button {\n",
       "                    --jp-layout-color3: #383838;\n",
       "                }\n",
       "\n",
       "                .geemap-colab {\n",
       "                    background-color: var(--colab-primary-surface-color, white);\n",
       "                }\n",
       "\n",
       "                .geemap-colab .jupyter-button {\n",
       "                    --jp-layout-color3: var(--colab-primary-surface-color, white);\n",
       "                }\n",
       "            </style>\n",
       "            "
      ],
      "text/plain": [
       "<IPython.core.display.HTML object>"
      ]
     },
     "metadata": {},
     "output_type": "display_data"
    },
    {
     "name": "stdout",
     "output_type": "stream",
     "text": [
      "ERA5-Land Configuration:\n",
      "Dataset: ECMWF/ERA5_LAND/HOURLY\n",
      "Variable: temperature_2m\n",
      "Date range: 1950-01-01 to 2024-12-31\n",
      "Spatial resolution: ~11km\n",
      "Temporal resolution: Hourly\n",
      "\n",
      "Testing ERA5-Land data access...\n",
      "✅ ERA5-Land accessible - found 1 images in collection\n"
     ]
    }
   ],
   "source": [
    "# ERA5-Land dataset configuration\n",
    "ERA5_LAND = 'ECMWF/ERA5_LAND/HOURLY'\n",
    "TEMPERATURE_BAND = 'temperature_2m'  # Kelvin\n",
    "\n",
    "# Date range for analysis (using maximum available period for robust statistics)\n",
    "START_DATE = '1950-01-01'\n",
    "END_DATE = '2024-12-31'\n",
    "\n",
    "print(f\"ERA5-Land Configuration:\")\n",
    "print(f\"Dataset: {ERA5_LAND}\")\n",
    "print(f\"Variable: {TEMPERATURE_BAND}\")\n",
    "print(f\"Date range: {START_DATE} to {END_DATE}\")\n",
    "print(f\"Spatial resolution: ~11km\")\n",
    "print(f\"Temporal resolution: Hourly\")\n",
    "\n",
    "# Verify ERA5-Land access\n",
    "if GEE_INITIALIZED:\n",
    "    print(\"\\nTesting ERA5-Land data access...\")\n",
    "    try:\n",
    "        era5_test = ee.ImageCollection(ERA5_LAND).limit(1)\n",
    "        test_count = era5_test.size().getInfo()\n",
    "        print(f\"✅ ERA5-Land accessible - found {test_count} images in collection\")\n",
    "    except Exception as e:\n",
    "        print(f\"❌ ERA5-Land access error: {e}\")\n",
    "else:\n",
    "    print(\"⚠️  GEE not initialized - cannot test ERA5-Land access\")"
   ]
  },
  {
   "cell_type": "markdown",
   "metadata": {},
   "source": [
    "## 1.2 City-based Analysis Setup"
   ]
  },
  {
   "cell_type": "code",
   "execution_count": 3,
   "metadata": {},
   "outputs": [
    {
     "data": {
      "text/html": [
       "\n",
       "            <style>\n",
       "                .geemap-dark {\n",
       "                    --jp-widgets-color: white;\n",
       "                    --jp-widgets-label-color: white;\n",
       "                    --jp-ui-font-color1: white;\n",
       "                    --jp-layout-color2: #454545;\n",
       "                    background-color: #383838;\n",
       "                }\n",
       "\n",
       "                .geemap-dark .jupyter-button {\n",
       "                    --jp-layout-color3: #383838;\n",
       "                }\n",
       "\n",
       "                .geemap-colab {\n",
       "                    background-color: var(--colab-primary-surface-color, white);\n",
       "                }\n",
       "\n",
       "                .geemap-colab .jupyter-button {\n",
       "                    --jp-layout-color3: var(--colab-primary-surface-color, white);\n",
       "                }\n",
       "            </style>\n",
       "            "
      ],
      "text/plain": [
       "<IPython.core.display.HTML object>"
      ]
     },
     "metadata": {},
     "output_type": "display_data"
    },
    {
     "name": "stdout",
     "output_type": "stream",
     "text": [
      "Loading GHS Urban Database...\n",
      "Total cities in collection: 11422\n",
      "\n",
      "Sample city properties:\n",
      "City: Chimoio\n",
      "Country: Mozambique\n",
      "Population: 519,720.7068\n",
      "---\n",
      "City: Gondola\n",
      "Country: Mozambique\n",
      "Population: 57,039.91993\n",
      "---\n",
      "✅ GHS Urban Database loaded successfully\n"
     ]
    }
   ],
   "source": [
    "# Load global cities dataset\n",
    "if GEE_INITIALIZED:\n",
    "    print(\"Loading GHS Urban Database...\")\n",
    "    cities_collection = 'projects/tl-cities/assets/GHS_UCDB_THEME_HAZARD_RISK_GLOBE_R2024A'\n",
    "    cities = ee.FeatureCollection(cities_collection)\n",
    "\n",
    "    try:\n",
    "        # Get basic info about the cities collection\n",
    "        city_count = cities.size()\n",
    "        print(f\"Total cities in collection: {city_count.getInfo()}\")\n",
    "\n",
    "        # Sample a few cities to understand the data structure\n",
    "        sample_cities = cities.limit(5)\n",
    "        sample_info = sample_cities.getInfo()\n",
    "\n",
    "        print(\"\\nSample city properties:\")\n",
    "        for feature in sample_info['features'][:2]:\n",
    "            props = feature['properties']\n",
    "            print(f\"City: {props.get('GC_UCN_MAI', 'N/A')}\")\n",
    "            print(f\"Country: {props.get('GC_CNT_GAD', 'N/A')}\")\n",
    "            print(f\"Population: {props.get('GC_POP_TOT', 'N/A'):,}\")\n",
    "            print(\"---\")\n",
    "            \n",
    "        print(\"✅ GHS Urban Database loaded successfully\")\n",
    "        \n",
    "    except Exception as e:\n",
    "        print(f\"❌ Error loading cities collection: {e}\")\n",
    "        cities = None\n",
    "else:\n",
    "    print(\"❌ GEE not initialized - cannot load cities collection\")\n",
    "    cities = None"
   ]
  },
  {
   "cell_type": "markdown",
   "metadata": {},
   "source": [
    "## 1.3 Temperature Data Extraction Functions"
   ]
  },
  {
   "cell_type": "code",
   "execution_count": 4,
   "metadata": {},
   "outputs": [
    {
     "data": {
      "text/html": [
       "\n",
       "            <style>\n",
       "                .geemap-dark {\n",
       "                    --jp-widgets-color: white;\n",
       "                    --jp-widgets-label-color: white;\n",
       "                    --jp-ui-font-color1: white;\n",
       "                    --jp-layout-color2: #454545;\n",
       "                    background-color: #383838;\n",
       "                }\n",
       "\n",
       "                .geemap-dark .jupyter-button {\n",
       "                    --jp-layout-color3: #383838;\n",
       "                }\n",
       "\n",
       "                .geemap-colab {\n",
       "                    background-color: var(--colab-primary-surface-color, white);\n",
       "                }\n",
       "\n",
       "                .geemap-colab .jupyter-button {\n",
       "                    --jp-layout-color3: var(--colab-primary-surface-color, white);\n",
       "                }\n",
       "            </style>\n",
       "            "
      ],
      "text/plain": [
       "<IPython.core.display.HTML object>"
      ]
     },
     "metadata": {},
     "output_type": "display_data"
    },
    {
     "name": "stdout",
     "output_type": "stream",
     "text": [
      "✅ Temperature extraction functions defined and ready\n"
     ]
    }
   ],
   "source": [
    "def extract_temperature_time_series(city_feature, start_date, end_date):\n",
    "    \"\"\"\n",
    "    Extract ERA5-Land temperature time series for a city\n",
    "    \n",
    "    Parameters:\n",
    "    - city_feature: ee.Feature with city geometry\n",
    "    - start_date: Start date string 'YYYY-MM-DD'\n",
    "    - end_date: End date string 'YYYY-MM-DD'\n",
    "    \n",
    "    Returns:\n",
    "    - ee.ImageCollection with temperature data\n",
    "    \"\"\"\n",
    "    \n",
    "    # Get city geometry\n",
    "    city_geometry = city_feature.geometry()\n",
    "    \n",
    "    # Load ERA5-Land temperature data\n",
    "    era5_land = ee.ImageCollection(ERA5_LAND) \\\n",
    "        .select(TEMPERATURE_BAND) \\\n",
    "        .filterDate(start_date, end_date) \\\n",
    "        .filterBounds(city_geometry)\n",
    "    \n",
    "    return era5_land\n",
    "\n",
    "def kelvin_to_celsius(image):\n",
    "    \"\"\"\n",
    "    Convert temperature from Kelvin to Celsius\n",
    "    \"\"\"\n",
    "    celsius = image.select(TEMPERATURE_BAND).subtract(273.15)\n",
    "    return image.addBands(celsius.rename('temperature_2m_celsius'), overwrite=True)\n",
    "\n",
    "def calculate_daily_temperature_stats(hourly_collection, geometry):\n",
    "    \"\"\"\n",
    "    Calculate daily Tmax, Tmin, and average from hourly data\n",
    "    \n",
    "    Parameters:\n",
    "    - hourly_collection: ee.ImageCollection with hourly temperature data\n",
    "    - geometry: ee.Geometry for spatial aggregation\n",
    "    \n",
    "    Returns:\n",
    "    - ee.ImageCollection with daily statistics\n",
    "    \"\"\"\n",
    "    \n",
    "    # Convert to Celsius\n",
    "    celsius_collection = hourly_collection.map(kelvin_to_celsius)\n",
    "    \n",
    "    # Group by date and calculate daily statistics\n",
    "    def calculate_daily_stats(date):\n",
    "        date = ee.Date(date)\n",
    "        daily_images = celsius_collection.filterDate(date, date.advance(1, 'day'))\n",
    "        \n",
    "        # Calculate stats\n",
    "        tmax = daily_images.select('temperature_2m_celsius').max()\n",
    "        tmin = daily_images.select('temperature_2m_celsius').min()\n",
    "        tavg = daily_images.select('temperature_2m_celsius').mean()\n",
    "        \n",
    "        # Combine into single image\n",
    "        daily_stats = tmax.rename('tmax') \\\n",
    "            .addBands(tmin.rename('tmin')) \\\n",
    "            .addBands(tavg.rename('tavg')) \\\n",
    "            .set('date', date.format('YYYY-MM-dd'))\n",
    "            \n",
    "        return daily_stats\n",
    "    \n",
    "    # Get unique dates\n",
    "    dates = celsius_collection.aggregate_array('system:time_start') \\\n",
    "        .map(lambda t: ee.Date(t).format('YYYY-MM-dd')).distinct()\n",
    "    \n",
    "    daily_stats = ee.ImageCollection(dates.map(calculate_daily_stats))\n",
    "    \n",
    "    return daily_stats\n",
    "\n",
    "def export_city_temperature_data(city_feature, output_folder='../data/temperature/'):\n",
    "    \"\"\"\n",
    "    Export temperature time series for a city to CSV\n",
    "    \n",
    "    Parameters:\n",
    "    - city_feature: ee.Feature with city information\n",
    "    - output_folder: Local folder for output files\n",
    "    \"\"\"\n",
    "    \n",
    "    # Get city properties using correct field names\n",
    "    city_props = city_feature.getInfo()['properties']\n",
    "    city_name = city_props.get('GC_UCN_MAI', 'Unknown')\n",
    "    city_id = city_props.get('GC_UNI_ID', str(city_props.get('system:index', 'unknown')))\n",
    "    country = city_props.get('GC_CNT_GAD', 'Unknown')\n",
    "    \n",
    "    print(f\"Processing city: {city_name}, {country} (ID: {city_id})\")\n",
    "    \n",
    "    # Extract temperature data\n",
    "    hourly_temps = extract_temperature_time_series(city_feature, START_DATE, END_DATE)\n",
    "    daily_stats = calculate_daily_temperature_stats(hourly_temps, city_feature.geometry())\n",
    "    \n",
    "    # Create export task\n",
    "    filename = f\"temperature_daily_{city_id}_{city_name.replace(' ', '_')}\"\n",
    "    \n",
    "    task = ee.batch.Export.table.toDrive(\n",
    "        collection=daily_stats,\n",
    "        description=filename,\n",
    "        folder='EHF_Temperature_Data',\n",
    "        fileNamePrefix=filename,\n",
    "        fileFormat='CSV'\n",
    "    )\n",
    "    \n",
    "    task.start()\n",
    "    print(f\"Export task started for {city_name}\")\n",
    "    \n",
    "    return task\n",
    "\n",
    "# Verify functions are ready\n",
    "if GEE_INITIALIZED:\n",
    "    print(\"✅ Temperature extraction functions defined and ready\")\n",
    "else:\n",
    "    print(\"⚠️  GEE functions defined but GEE not initialized\")"
   ]
  },
  {
   "cell_type": "markdown",
   "metadata": {},
   "source": [
    "## Test Implementation with Sample Cities"
   ]
  },
  {
   "cell_type": "code",
   "execution_count": 5,
   "metadata": {},
   "outputs": [
    {
     "data": {
      "text/html": [
       "\n",
       "            <style>\n",
       "                .geemap-dark {\n",
       "                    --jp-widgets-color: white;\n",
       "                    --jp-widgets-label-color: white;\n",
       "                    --jp-ui-font-color1: white;\n",
       "                    --jp-layout-color2: #454545;\n",
       "                    background-color: #383838;\n",
       "                }\n",
       "\n",
       "                .geemap-dark .jupyter-button {\n",
       "                    --jp-layout-color3: #383838;\n",
       "                }\n",
       "\n",
       "                .geemap-colab {\n",
       "                    background-color: var(--colab-primary-surface-color, white);\n",
       "                }\n",
       "\n",
       "                .geemap-colab .jupyter-button {\n",
       "                    --jp-layout-color3: var(--colab-primary-surface-color, white);\n",
       "                }\n",
       "            </style>\n",
       "            "
      ],
      "text/plain": [
       "<IPython.core.display.HTML object>"
      ]
     },
     "metadata": {},
     "output_type": "display_data"
    },
    {
     "name": "stdout",
     "output_type": "stream",
     "text": [
      "Testing with cities from United States, India, and Brazil...\n",
      "Testing with 3 cities:\n",
      "- Gurupi, Brazil\n",
      "- Waco, United States\n",
      "- Handley, United States\n",
      "✅ Test cities loaded successfully\n"
     ]
    }
   ],
   "source": [
    "# Test with a small subset of cities first\n",
    "if GEE_INITIALIZED and cities is not None:\n",
    "    print(\"Testing with cities from United States, India, and Brazil...\")\n",
    "    test_cities = cities.filter(ee.Filter.inList('GC_CNT_GAD', ['United States', 'India', 'Brazil'])).limit(3)\n",
    "\n",
    "    # Get test city information\n",
    "    try:\n",
    "        test_info = test_cities.getInfo()\n",
    "        print(f\"Testing with {len(test_info['features'])} cities:\")\n",
    "\n",
    "        for feature in test_info['features']:\n",
    "            props = feature['properties']\n",
    "            print(f\"- {props.get('GC_UCN_MAI', 'N/A')}, {props.get('GC_CNT_GAD', 'N/A')}\")\n",
    "            \n",
    "        print(\"✅ Test cities loaded successfully\")\n",
    "        \n",
    "    except Exception as e:\n",
    "        print(f\"❌ Error loading test cities: {e}\")\n",
    "        test_cities = None\n",
    "else:\n",
    "    print(\"⚠️  Cannot run city tests - GEE not initialized or cities not loaded\")\n",
    "    test_cities = None"
   ]
  },
  {
   "cell_type": "code",
   "execution_count": 7,
   "metadata": {},
   "outputs": [
    {
     "data": {
      "text/html": [
       "\n",
       "            <style>\n",
       "                .geemap-dark {\n",
       "                    --jp-widgets-color: white;\n",
       "                    --jp-widgets-label-color: white;\n",
       "                    --jp-ui-font-color1: white;\n",
       "                    --jp-layout-color2: #454545;\n",
       "                    background-color: #383838;\n",
       "                }\n",
       "\n",
       "                .geemap-dark .jupyter-button {\n",
       "                    --jp-layout-color3: #383838;\n",
       "                }\n",
       "\n",
       "                .geemap-colab {\n",
       "                    background-color: var(--colab-primary-surface-color, white);\n",
       "                }\n",
       "\n",
       "                .geemap-colab .jupyter-button {\n",
       "                    --jp-layout-color3: var(--colab-primary-surface-color, white);\n",
       "                }\n",
       "            </style>\n",
       "            "
      ],
      "text/plain": [
       "<IPython.core.display.HTML object>"
      ]
     },
     "metadata": {},
     "output_type": "display_data"
    },
    {
     "name": "stdout",
     "output_type": "stream",
     "text": [
      "Extracting temperature data for: Gurupi\n",
      "Number of hourly temperature records: 8736\n",
      "Number of daily records: 364\n"
     ]
    }
   ],
   "source": [
    "# Extract temperature data for first test city\n",
    "first_city = ee.Feature(test_cities.first())\n",
    "city_info = first_city.getInfo()\n",
    "city_name = city_info['properties'].get('GC_UCN_MAI', 'Unknown')\n",
    "\n",
    "print(f\"Extracting temperature data for: {city_name}\")\n",
    "\n",
    "# Get recent year of data for testing (2023)\n",
    "test_start = '2023-01-01'\n",
    "test_end = '2023-12-31'\n",
    "\n",
    "hourly_temps = extract_temperature_time_series(first_city, test_start, test_end)\n",
    "temp_count = hourly_temps.size()\n",
    "print(f\"Number of hourly temperature records: {temp_count.getInfo()}\")\n",
    "\n",
    "# Calculate daily statistics\n",
    "daily_stats = calculate_daily_temperature_stats(hourly_temps, first_city.geometry())\n",
    "daily_count = daily_stats.size()\n",
    "print(f\"Number of daily records: {daily_count.getInfo()}\")"
   ]
  },
  {
   "cell_type": "markdown",
   "metadata": {},
   "source": [
    "## Sample Temperature Data Visualization"
   ]
  },
  {
   "cell_type": "code",
   "execution_count": 8,
   "metadata": {},
   "outputs": [
    {
     "data": {
      "text/html": [
       "\n",
       "            <style>\n",
       "                .geemap-dark {\n",
       "                    --jp-widgets-color: white;\n",
       "                    --jp-widgets-label-color: white;\n",
       "                    --jp-ui-font-color1: white;\n",
       "                    --jp-layout-color2: #454545;\n",
       "                    background-color: #383838;\n",
       "                }\n",
       "\n",
       "                .geemap-dark .jupyter-button {\n",
       "                    --jp-layout-color3: #383838;\n",
       "                }\n",
       "\n",
       "                .geemap-colab {\n",
       "                    background-color: var(--colab-primary-surface-color, white);\n",
       "                }\n",
       "\n",
       "                .geemap-colab .jupyter-button {\n",
       "                    --jp-layout-color3: var(--colab-primary-surface-color, white);\n",
       "                }\n",
       "            </style>\n",
       "            "
      ],
      "text/plain": [
       "<IPython.core.display.HTML object>"
      ]
     },
     "metadata": {},
     "output_type": "display_data"
    },
    {
     "data": {
      "image/png": "[encoded data removed]",
      "text/plain": [
       "<Figure size 1200x600 with 1 Axes>"
      ]
     },
     "metadata": {},
     "output_type": "display_data"
    },
    {
     "name": "stdout",
     "output_type": "stream",
     "text": [
      "Temperature statistics for Gurupi:\n",
      "            tmax       tmin       tavg\n",
      "count  30.000000  30.000000  30.000000\n",
      "mean   29.730552  22.085511  25.220756\n",
      "std     1.109772   0.620151   0.681630\n",
      "min    27.101556  20.185236  23.921313\n",
      "25%    29.077501  21.759389  24.935880\n",
      "50%    29.794283  21.935551  25.077175\n",
      "75%    30.522542  22.574149  25.608085\n",
      "max    31.414199  23.333180  27.037915\n"
     ]
    }
   ],
   "source": [
    "# Get sample temperature data for visualization\n",
    "sample_data = daily_stats.limit(30)  # First 30 days\n",
    "\n",
    "# Extract values for plotting (this is a simplified approach)\n",
    "def extract_temp_values(image):\n",
    "    # Reduce to mean value over city geometry\n",
    "    values = image.reduceRegion(\n",
    "        reducer=ee.Reducer.mean(),\n",
    "        geometry=first_city.geometry(),\n",
    "        scale=11000,  # ERA5-Land resolution\n",
    "        maxPixels=1e9\n",
    "    )\n",
    "    \n",
    "    return ee.Feature(None, {\n",
    "        'date': image.get('date'),\n",
    "        'tmax': values.get('tmax'),\n",
    "        'tmin': values.get('tmin'),\n",
    "        'tavg': values.get('tavg')\n",
    "    })\n",
    "\n",
    "sample_features = sample_data.map(extract_temp_values)\n",
    "sample_info = sample_features.getInfo()\n",
    "\n",
    "# Convert to DataFrame for plotting\n",
    "temp_data = []\n",
    "for feature in sample_info['features']:\n",
    "    props = feature['properties']\n",
    "    temp_data.append({\n",
    "        'date': props['date'],\n",
    "        'tmax': props['tmax'],\n",
    "        'tmin': props['tmin'],\n",
    "        'tavg': props['tavg']\n",
    "    })\n",
    "\n",
    "df = pd.DataFrame(temp_data)\n",
    "df['date'] = pd.to_datetime(df['date'])\n",
    "\n",
    "# Plot temperature time series\n",
    "plt.figure(figsize=(12, 6))\n",
    "plt.plot(df['date'], df['tmax'], label='Tmax', color='red', alpha=0.7)\n",
    "plt.plot(df['date'], df['tmin'], label='Tmin', color='blue', alpha=0.7)\n",
    "plt.plot(df['date'], df['tavg'], label='Tavg', color='green', linewidth=2)\n",
    "\n",
    "plt.fill_between(df['date'], df['tmin'], df['tmax'], alpha=0.3, color='gray')\n",
    "\n",
    "plt.title(f'Daily Temperature Time Series - {city_name} (January 2023)')\n",
    "plt.xlabel('Date')\n",
    "plt.ylabel('Temperature (°C)')\n",
    "plt.legend()\n",
    "plt.xticks(rotation=45)\n",
    "plt.tight_layout()\n",
    "plt.grid(True, alpha=0.3)\n",
    "plt.show()\n",
    "\n",
    "print(f\"Temperature statistics for {city_name}:\")\n",
    "print(df[['tmax', 'tmin', 'tavg']].describe())"
   ]
  },
  {
   "cell_type": "markdown",
   "metadata": {},
   "source": [
    "## Data Quality Assessment"
   ]
  },
  {
   "cell_type": "code",
   "execution_count": 21,
   "metadata": {},
   "outputs": [
    {
     "name": "stdout",
     "output_type": "stream",
     "text": [
      "Data Quality Assessment:\n",
      "Date range: 2023-01-01 00:00:00 to 2023-01-30 00:00:00\n",
      "Total days: 30\n",
      "Missing values:\n",
      "  - Tmax: 0\n",
      "  - Tmin: 0\n",
      "  - Tavg: 0\n",
      "\n",
      "Temperature ranges:\n",
      "  - Tmax: 27.1°C to 31.4°C\n",
      "  - Tmin: 20.2°C to 23.3°C\n",
      "  - Tavg: 23.9°C to 27.0°C\n",
      "\n",
      "Data consistency: 30/30 days are logically consistent\n"
     ]
    }
   ],
   "source": [
    "# Assess data quality and completeness\n",
    "print(\"Data Quality Assessment:\")\n",
    "print(f\"Date range: {df['date'].min()} to {df['date'].max()}\")\n",
    "print(f\"Total days: {len(df)}\")\n",
    "print(f\"Missing values:\")\n",
    "print(f\"  - Tmax: {df['tmax'].isna().sum()}\")\n",
    "print(f\"  - Tmin: {df['tmin'].isna().sum()}\")\n",
    "print(f\"  - Tavg: {df['tavg'].isna().sum()}\")\n",
    "\n",
    "# Check for outliers\n",
    "print(f\"\\nTemperature ranges:\")\n",
    "print(f\"  - Tmax: {df['tmax'].min():.1f}°C to {df['tmax'].max():.1f}°C\")\n",
    "print(f\"  - Tmin: {df['tmin'].min():.1f}°C to {df['tmin'].max():.1f}°C\")\n",
    "print(f\"  - Tavg: {df['tavg'].min():.1f}°C to {df['tavg'].max():.1f}°C\")\n",
    "\n",
    "# Check logical consistency (Tmin <= Tavg <= Tmax)\n",
    "consistent_data = (df['tmin'] <= df['tavg']) & (df['tavg'] <= df['tmax'])\n",
    "print(f\"\\nData consistency: {consistent_data.sum()}/{len(df)} days are logically consistent\")"
   ]
  },
  {
   "cell_type": "markdown",
   "metadata": {},
   "source": [
    "## Batch Processing Setup"
   ]
  },
  {
   "cell_type": "code",
   "execution_count": 9,
   "metadata": {},
   "outputs": [
    {
     "data": {
      "text/html": [
       "\n",
       "            <style>\n",
       "                .geemap-dark {\n",
       "                    --jp-widgets-color: white;\n",
       "                    --jp-widgets-label-color: white;\n",
       "                    --jp-ui-font-color1: white;\n",
       "                    --jp-layout-color2: #454545;\n",
       "                    background-color: #383838;\n",
       "                }\n",
       "\n",
       "                .geemap-dark .jupyter-button {\n",
       "                    --jp-layout-color3: #383838;\n",
       "                }\n",
       "\n",
       "                .geemap-colab {\n",
       "                    background-color: var(--colab-primary-surface-color, white);\n",
       "                }\n",
       "\n",
       "                .geemap-colab .jupyter-button {\n",
       "                    --jp-layout-color3: var(--colab-primary-surface-color, white);\n",
       "                }\n",
       "            </style>\n",
       "            "
      ],
      "text/plain": [
       "<IPython.core.display.HTML object>"
      ]
     },
     "metadata": {},
     "output_type": "display_data"
    },
    {
     "name": "stdout",
     "output_type": "stream",
     "text": [
      "Starting batch processing for 5 test cities...\n",
      "Setting up batch processing for 5 cities\n",
      "Processing city: Chimoio, Mozambique (ID: unknown)\n",
      "Export task started for Chimoio\n",
      "Processed 1/5 cities\n",
      "Processing city: Gondola, Mozambique (ID: unknown)\n",
      "Export task started for Gondola\n",
      "Processing city: Gurupi, Brazil (ID: unknown)\n",
      "Export task started for Gurupi\n",
      "Processing city: Nhamatanda, Mozambique (ID: unknown)\n",
      "Export task started for Nhamatanda\n",
      "Processing city: Smila, Ukraine (ID: unknown)\n",
      "Export task started for Smila\n",
      "Started 5 export tasks\n"
     ]
    }
   ],
   "source": [
    "# Setup for batch processing multiple cities\n",
    "def setup_batch_processing(cities_collection, sample_size=None):\n",
    "    \"\"\"\n",
    "    Setup batch processing for multiple cities\n",
    "    \n",
    "    Parameters:\n",
    "    - cities_collection: ee.FeatureCollection of cities\n",
    "    - sample_size: Number of cities to process (None for all)\n",
    "    \n",
    "    Returns:\n",
    "    - List of export tasks\n",
    "    \"\"\"\n",
    "    \n",
    "    if sample_size:\n",
    "        cities_to_process = cities_collection.limit(sample_size)\n",
    "    else:\n",
    "        cities_to_process = cities_collection\n",
    "    \n",
    "    # Get city list\n",
    "    city_list = cities_to_process.getInfo()['features']\n",
    "    print(f\"Setting up batch processing for {len(city_list)} cities\")\n",
    "    \n",
    "    export_tasks = []\n",
    "    \n",
    "    for i, city_feature in enumerate(city_list):\n",
    "        try:\n",
    "            city_ee_feature = ee.Feature(city_feature)\n",
    "            task = export_city_temperature_data(city_ee_feature)\n",
    "            export_tasks.append(task)\n",
    "            \n",
    "            if i % 10 == 0:\n",
    "                print(f\"Processed {i+1}/{len(city_list)} cities\")\n",
    "                \n",
    "        except Exception as e:\n",
    "            city_name = city_feature['properties'].get('GC_UCN_MAI', 'Unknown')\n",
    "            print(f\"Error processing city {city_name}: {str(e)}\")\n",
    "            continue\n",
    "    \n",
    "    return export_tasks\n",
    "\n",
    "# Example: Process first 5 cities\n",
    "if GEE_INITIALIZED and cities is not None:\n",
    "    print(\"Starting batch processing for 5 test cities...\")\n",
    "    tasks = setup_batch_processing(cities, sample_size=5)\n",
    "    print(f\"Started {len(tasks)} export tasks\")\n",
    "else:\n",
    "    print(\"⚠️  Cannot start batch processing - GEE not initialized or cities not loaded\")"
   ]
  },
  {
   "cell_type": "markdown",
   "metadata": {},
   "source": [
    "Note: from cell above ID is missing, need to replace the ID field with the name of the actual field from GHS data.... it is not: 'ID_HDC_G0'"
   ]
  },
  {
   "cell_type": "markdown",
   "metadata": {},
   "source": [
    "## Task Monitoring"
   ]
  },
  {
   "cell_type": "code",
   "execution_count": 12,
   "metadata": {},
   "outputs": [
    {
     "data": {
      "text/html": [
       "\n",
       "            <style>\n",
       "                .geemap-dark {\n",
       "                    --jp-widgets-color: white;\n",
       "                    --jp-widgets-label-color: white;\n",
       "                    --jp-ui-font-color1: white;\n",
       "                    --jp-layout-color2: #454545;\n",
       "                    background-color: #383838;\n",
       "                }\n",
       "\n",
       "                .geemap-dark .jupyter-button {\n",
       "                    --jp-layout-color3: #383838;\n",
       "                }\n",
       "\n",
       "                .geemap-colab {\n",
       "                    background-color: var(--colab-primary-surface-color, white);\n",
       "                }\n",
       "\n",
       "                .geemap-colab .jupyter-button {\n",
       "                    --jp-layout-color3: var(--colab-primary-surface-color, white);\n",
       "                }\n",
       "            </style>\n",
       "            "
      ],
      "text/plain": [
       "<IPython.core.display.HTML object>"
      ]
     },
     "metadata": {},
     "output_type": "display_data"
    },
    {
     "name": "stdout",
     "output_type": "stream",
     "text": [
      "Task Status Summary:\n",
      "--------------------------------------------------\n",
      "Task 1: temperature_daily_unknown_Chimoio - COMPLETED\n",
      "Task 2: temperature_daily_unknown_Gondola - COMPLETED\n",
      "Task 3: temperature_daily_unknown_Gurupi - COMPLETED\n",
      "Task 4: temperature_daily_unknown_Nhamatanda - COMPLETED\n",
      "Task 5: temperature_daily_unknown_Smila - COMPLETED\n",
      "\n",
      "Overall Status:\n",
      "  COMPLETED: 5 tasks\n"
     ]
    }
   ],
   "source": [
    "# Monitor export tasks\n",
    "def monitor_tasks(task_list):\n",
    "    \"\"\"\n",
    "    Monitor the status of export tasks\n",
    "    \"\"\"\n",
    "    print(\"Task Status Summary:\")\n",
    "    print(\"-\" * 50)\n",
    "    \n",
    "    status_counts = {}\n",
    "    \n",
    "    for i, task in enumerate(task_list):\n",
    "        status = task.status()['state']\n",
    "        description = task.status()['description']\n",
    "        \n",
    "        status_counts[status] = status_counts.get(status, 0) + 1\n",
    "        \n",
    "        print(f\"Task {i+1}: {description} - {status}\")\n",
    "    \n",
    "    print(\"\\nOverall Status:\")\n",
    "    for status, count in status_counts.items():\n",
    "        print(f\"  {status}: {count} tasks\")\n",
    "    \n",
    "    return status_counts\n",
    "\n",
    "# Monitor current tasks\n",
    "if 'tasks' in locals() and tasks:\n",
    "    monitor_tasks(tasks)\n",
    "else:\n",
    "    print(\"No active tasks to monitor\")"
   ]
  },
  {
   "cell_type": "markdown",
   "metadata": {},
   "source": [
    "## Next Steps\n",
    "\n",
    "This notebook has completed Phase 1 of the EHF methodology implementation:\n",
    "\n",
    "✅ **Completed:**\n",
    "- ERA5-Land data access setup\n",
    "- City-based analysis framework\n",
    "- Temperature extraction and aggregation functions\n",
    "- Daily statistics calculation (Tmax, Tmin, Tavg)\n",
    "- Data quality assessment\n",
    "- Batch processing framework\n",
    "\n",
    "**Next Phase:** Proceed to Phase 2 notebook (`10_phase2_ehf_baseline.ipynb`) for:\n",
    "- Climatological threshold (T95) calculation\n",
    "- Long-term temperature statistics\n",
    "- Baseline reference period establishment\n",
    "\n",
    "**Data Output:** Temperature time series are being exported to Google Drive in folder `EHF_Temperature_Data/`"
   ]
  },
  {
   "cell_type": "code",
   "execution_count": null,
   "metadata": {},
   "outputs": [],
   "source": []
  }
 ],
 "metadata": {
  "kernelspec": {
   "display_name": "Python 3 (ipykernel)",
   "language": "python",
   "name": "python3"
  },
  "language_info": {
   "codemirror_mode": {
    "name": "ipython",
    "version": 3
   },
   "file_extension": ".py",
   "mimetype": "text/x-python",
   "name": "python",
   "nbconvert_exporter": "python",
   "pygments_lexer": "ipython3",
   "version": "3.9.13"
  }
 },
 "nbformat": 4,
 "nbformat_minor": 4
}
