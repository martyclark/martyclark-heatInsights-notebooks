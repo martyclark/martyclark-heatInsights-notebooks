{
 "cells": [
  {
   "cell_type": "markdown",
   "metadata": {},
   "source": [
    "# GEE Authentication Test\n",
    "\n",
    "Test Google Earth Engine connection and basic functionality."
   ]
  },
  {
   "cell_type": "code",
   "execution_count": 1,
   "metadata": {},
   "outputs": [
    {
     "name": "stdout",
     "output_type": "stream",
     "text": [
      "✅ GEE initialized successfully!\n"
     ]
    }
   ],
   "source": [
    "import ee\n",
    "import folium\n",
    "\n",
    "# Initialize GEE with your project\n",
    "ee.Initialize(project='tl-cities')\n",
    "print('✅ GEE initialized successfully!')"
   ]
  },
  {
   "cell_type": "code",
   "execution_count": null,
   "metadata": {},
   "outputs": [],
   "source": [
    "# Test basic query\n",
    "collection = ee.ImageCollection('LANDSAT/LC08/C02/T1_TOA') \\\n",
    "              .filterDate('2020-01-01', '2020-01-02')\n",
    "count = collection.size()\n",
    "print(f'Found {count.getInfo()} Landsat images')"
   ]
  },
  {
   "cell_type": "code",
   "execution_count": null,
   "metadata": {},
   "outputs": [],
   "source": [
    "# Create a simple map with folium\n",
    "m = folium.Map(location=[51.5074, -0.1278], zoom_start=10)  # London\n",
    "m"
   ]
  }
 ],
 "metadata": {
  "kernelspec": {
   "display_name": "Python 3 (ipykernel)",
   "language": "python",
   "name": "python3"
  },
  "language_info": {
   "codemirror_mode": {
    "name": "ipython",
    "version": 3
   },
   "file_extension": ".py",
   "mimetype": "text/x-python",
   "name": "python",
   "nbconvert_exporter": "python",
   "pygments_lexer": "ipython3",
   "version": "3.9.13"
  }
 },
 "nbformat": 4,
 "nbformat_minor": 4
}
