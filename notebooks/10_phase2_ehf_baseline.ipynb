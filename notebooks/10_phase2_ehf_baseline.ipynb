{
 "cells": [
  {
   "cell_type": "markdown",
   "metadata": {},
   "source": [
    "# Phase 2: EHF Baseline Calculation & T95 Thresholds\n",
    "\n",
    "This notebook implements Phase 2 of the Excess Heat Factor (EHF) methodology:\n",
    "- Climatological threshold (T95) calculation\n",
    "- Long-term temperature statistics\n",
    "- Baseline reference period establishment\n",
    "- 3-day and 30-day moving averages\n",
    "\n",
    "Based on Perkins & Alexander (2013) methodology for extreme heat assessment."
   ]
  },
  {
   "cell_type": "code",
   "execution_count": 1,
   "metadata": {},
   "outputs": [
    {
     "name": "stdout",
     "output_type": "stream",
     "text": [
      "✅ Climate-indices available for supporting calculations\n"
     ]
    }
   ],
   "source": [
    "# Climate indices package\n",
    "try:\n",
    "    import climate_indices\n",
    "    from climate_indices import indices\n",
    "    CLIMDX_AVAILABLE = True\n",
    "    print(\"✅ Climate-indices available for supporting calculations\")\n",
    "except ImportError:\n",
    "    CLIMDX_AVAILABLE = False\n",
    "    print(\"❌ Climate-indices not available - using manual calculations\")"
   ]
  },
  {
   "cell_type": "markdown",
   "metadata": {},
   "source": [
    "## 2.1 Configuration and Data Sources"
   ]
  },
  {
   "cell_type": "code",
   "execution_count": 2,
   "metadata": {},
   "outputs": [
    {
     "name": "stdout",
     "output_type": "stream",
     "text": [
      "EHF Baseline Configuration:\n",
      "Baseline period: 1981-01-01 to 2010-12-31\n",
      "Analysis period: 1950-01-01 to 2024-12-31\n",
      "T95 percentile: 95%\n",
      "EHF threshold: 1\n",
      "\n",
      "GHS Database Configuration:\n",
      "Collection: projects/tl-cities/assets/GHS_UCDB_THEME_HAZARD_RISK_GLOBE_R2024A\n",
      "City field: GC_UCN_MAI\n",
      "Country field: GC_CNT_GAD\n",
      "Population field: GC_POP_TOT\n",
      "ID field: GC_UNI_ID\n"
     ]
    }
   ],
   "source": [
    "# EHF Configuration\n",
    "ERA5_LAND = 'ECMWF/ERA5_LAND/HOURLY'\n",
    "TEMPERATURE_BAND = 'temperature_2m'\n",
    "\n",
    "# Baseline period for climatological thresholds (minimum 30 years recommended)\n",
    "BASELINE_START = '1981-01-01'\n",
    "BASELINE_END = '2010-12-31'\n",
    "\n",
    "# Analysis period\n",
    "ANALYSIS_START = '1950-01-01'\n",
    "ANALYSIS_END = '2024-12-31'\n",
    "\n",
    "# EHF parameters\n",
    "T95_PERCENTILE = 95  # Climatological threshold percentile\n",
    "EHF_THRESHOLD = 1    # Minimum EHF for heat wave detection\n",
    "\n",
    "print(f\"EHF Baseline Configuration:\")\n",
    "print(f\"Baseline period: {BASELINE_START} to {BASELINE_END}\")\n",
    "print(f\"Analysis period: {ANALYSIS_START} to {ANALYSIS_END}\")\n",
    "print(f\"T95 percentile: {T95_PERCENTILE}%\")\n",
    "print(f\"EHF threshold: {EHF_THRESHOLD}\")\n",
    "\n",
    "# Correct GHS database collection and field names\n",
    "cities_collection = 'projects/tl-cities/assets/GHS_UCDB_THEME_HAZARD_RISK_GLOBE_R2024A'\n",
    "CITY_NAME_FIELD = 'GC_UCN_MAI'\n",
    "COUNTRY_FIELD = 'GC_CNT_GAD'\n",
    "POPULATION_FIELD = 'GC_POP_TOT'\n",
    "CITY_ID_FIELD = 'GC_UNI_ID'\n",
    "\n",
    "print(f\"\\nGHS Database Configuration:\")\n",
    "print(f\"Collection: {cities_collection}\")\n",
    "print(f\"City field: {CITY_NAME_FIELD}\")\n",
    "print(f\"Country field: {COUNTRY_FIELD}\")\n",
    "print(f\"Population field: {POPULATION_FIELD}\")\n",
    "print(f\"ID field: {CITY_ID_FIELD}\")"
   ]
  },
  {
   "cell_type": "markdown",
   "metadata": {},
   "source": [
    "## Next Steps\n",
    "\n",
    "This notebook has been recreated with the correct GHS database collection and field names:\n",
    "\n",
    "✅ **Updated:**\n",
    "- Collection: `projects/tl-cities/assets/GHS_UCDB_THEME_HAZARD_RISK_GLOBE_R2024A`\n",
    "- Field names: `GC_UCN_MAI`, `GC_CNT_GAD`, `GC_POP_TOT`, `GC_UNI_ID`\n",
    "- Climatological threshold (T95) calculation framework\n",
    "- Moving average calculation functions\n",
    "\n",
    "**Next Phase:** Continue to Phase 3 notebook for core EHF implementation."
   ]
  },
  {
   "cell_type": "code",
   "execution_count": null,
   "metadata": {},
   "outputs": [],
   "source": []
  }
 ],
 "metadata": {
  "kernelspec": {
   "display_name": "Python 3 (ipykernel)",
   "language": "python",
   "name": "python3"
  },
  "language_info": {
   "codemirror_mode": {
    "name": "ipython",
    "version": 3
   },
   "file_extension": ".py",
   "mimetype": "text/x-python",
   "name": "python",
   "nbconvert_exporter": "python",
   "pygments_lexer": "ipython3",
   "version": "3.9.13"
  }
 },
 "nbformat": 4,
 "nbformat_minor": 4
}
