{
 "cells": [
  {
   "cell_type": "markdown",
   "metadata": {},
   "source": [
    "# 🔧 Setup and Authentication\n",
    "\n",
    "This notebook helps you set up Earth Engine authentication and install required packages."
   ]
  },
  {
   "cell_type": "code",
   "execution_count": null,
   "metadata": {},
   "outputs": [],
   "source": [
    "# Install required packages in this notebook environment\n",
    "import sys\n",
    "print(f\"Current Python: {sys.executable}\")\n",
    "\n",
    "# Install missing packages\n",
    "!{sys.executable} -m pip install earthengine-api geemap rioxarray rasterio"
   ]
  },
  {
   "cell_type": "code",
   "execution_count": null,
   "metadata": {},
   "outputs": [],
   "source": [
    "# Test package imports\n",
    "try:\n",
    "    import ee\n",
    "    print(\"✅ earthengine-api imported\")\n",
    "except ImportError as e:\n",
    "    print(f\"❌ earthengine-api: {e}\")\n",
    "\n",
    "try:\n",
    "    import geemap\n",
    "    print(\"✅ geemap imported\")\n",
    "except ImportError as e:\n",
    "    print(f\"❌ geemap: {e}\")\n",
    "\n",
    "try:\n",
    "    import rioxarray as rxr\n",
    "    import rasterio\n",
    "    print(\"✅ rioxarray and rasterio imported\")\n",
    "    print(f\"   rioxarray: {rxr.__version__}\")\n",
    "    print(f\"   rasterio: {rasterio.__version__}\")\n",
    "except ImportError as e:\n",
    "    print(f\"❌ raster packages: {e}\")\n",
    "\n",
    "import xarray as xr\n",
    "import pandas as pd\n",
    "import numpy as np\n",
    "print(f\"✅ Core packages:\")\n",
    "print(f\"   xarray: {xr.__version__}\")\n",
    "print(f\"   pandas: {pd.__version__}\")\n",
    "print(f\"   numpy: {np.__version__}\")"
   ]
  },
  {
   "cell_type": "code",
   "execution_count": null,
   "metadata": {},
   "outputs": [],
   "source": [
    "# Authenticate with Google Earth Engine\n",
    "import ee\n",
    "\n",
    "# Run authentication - this will open a browser window\n",
    "print(\"🔐 Starting Earth Engine authentication...\")\n",
    "print(\"This will open a browser window for you to sign in to Google\")\n",
    "\n",
    "try:\n",
    "    ee.Authenticate()\n",
    "    print(\"✅ Authentication completed!\")\n",
    "except Exception as e:\n",
    "    print(f\"❌ Authentication failed: {e}\")\n",
    "    print(\"Please follow the instructions in the browser window\")"
   ]
  },
  {
   "cell_type": "code",
   "execution_count": null,
   "metadata": {},
   "outputs": [],
   "source": [
    "# Initialize Earth Engine\n",
    "try:\n",
    "    ee.Initialize()\n",
    "    print(\"✅ Earth Engine initialized successfully!\")\n",
    "    \n",
    "    # Test with a simple query\n",
    "    test_image = ee.Image('LANDSAT/LC08/C01/T1_SR/LC08_044034_20140318')\n",
    "    print(f\"✅ Test query successful: {test_image.getInfo()['id']}\")\n",
    "    \n",
    "except Exception as e:\n",
    "    print(f\"❌ Earth Engine initialization failed: {e}\")\n",
    "    print(\"\")\n",
    "    print(\"If you see 'Not signed up for Earth Engine', you need to:\")\n",
    "    print(\"1. Visit: https://earthengine.google.com/\")\n",
    "    print(\"2. Click 'Get Started'\")\n",
    "    print(\"3. Register for Earth Engine access\")\n",
    "    print(\"4. Wait for approval (can take a few days)\")"
   ]
  },
  {
   "cell_type": "markdown",
   "metadata": {},
   "source": [
    "## 🎯 Next Steps\n",
    "\n",
    "Once authentication is complete:\n",
    "\n",
    "1. **If Earth Engine works**: You can use any of the climate analysis notebooks\n",
    "2. **If you need Earth Engine access**: Visit https://earthengine.google.com/ to register\n",
    "3. **If packages are missing**: Re-run the installation cell above\n",
    "\n",
    "## 📋 Available Notebooks:\n",
    "\n",
    "- **17_xarray_working.ipynb**: Basic xarray analysis (works without rioxarray)\n",
    "- **17_xarray_climate_analysis_full.ipynb**: Complete analysis with raster export\n",
    "- **16_gshtd_extreme_heat_days_calculator.ipynb**: Original heat days calculator"
   ]
  }
 ],
 "metadata": {
  "kernelspec": {
   "display_name": "Python 3",
   "language": "python",
   "name": "python3"
  },
  "language_info": {
   "codemirror_mode": {
    "name": "ipython",
    "version": 3
   },
   "file_extension": ".py",
   "mimetype": "text/x-python",
   "name": "python",
   "nbconvert_exporter": "python",
   "pygments_lexer": "ipython3",
   "version": "3.9.13"
  }
 },
 "nbformat": 4,
 "nbformat_minor": 4
}