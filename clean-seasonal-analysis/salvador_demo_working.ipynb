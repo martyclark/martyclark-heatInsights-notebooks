{
 "cells": [
  {
   "cell_type": "code",
   "source": "# Import required libraries\nimport numpy as np\nimport pandas as pd\nimport matplotlib.pyplot as plt\nimport seaborn as sns\nfrom datetime import datetime, timedelta\nimport warnings\nwarnings.filterwarnings('ignore')\n\n# Set style for better plots\nplt.style.use('default')\nsns.set_palette(\"husl\")\nplt.rcParams['figure.figsize'] = (12, 8)\nplt.rcParams['font.size'] = 11\n\nprint(\"✓ Libraries imported successfully\")",
   "metadata": {},
   "execution_count": null,
   "outputs": []
  },
  {
   "cell_type": "markdown",
   "source": "# Salvador Heat Risk Methodology Demo - Working Version\n\nThis notebook demonstrates **seasonal vs annual heat risk calculation methods** using pre-processed data from Salvador, Brazil.\n\n## Methodology Comparison:\n- **Seasonal Method**: Day-specific thresholds (±5 days historical context)\n- **Annual Method**: Single threshold for entire year\n- **Formula**: Heat_Day = LST_max > max(absolute_threshold, seasonal_percentile)\n\n## Demo Flow:\n1. Load pre-downloaded Salvador temperature data (2003-2020)\n2. Calculate both seasonal and annual heat day indices\n3. Compare methodologies with visualizations\n4. Analyze monthly threshold variations\n5. Generate performance statistics\n\n**Data source**: MODIS LST from Google Earth Engine (pre-downloaded)",
   "metadata": {}
  }
 ],
 "metadata": {
  "kernelspec": {
   "display_name": "Python 3",
   "language": "python",
   "name": "python3"
  },
  "language_info": {
   "codemirror_mode": {
    "name": "ipython",
    "version": 3
   },
   "file_extension": ".py",
   "mimetype": "text/x-python",
   "name": "python",
   "nbconvert_exporter": "python",
   "pygments_lexer": "ipython3",
   "version": "3.8.5"
  }
 },
 "nbformat": 4,
 "nbformat_minor": 4
}